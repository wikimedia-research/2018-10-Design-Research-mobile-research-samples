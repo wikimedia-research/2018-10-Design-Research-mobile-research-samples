{
 "cells": [
  {
   "cell_type": "code",
   "execution_count": 236,
   "metadata": {},
   "outputs": [],
   "source": [
    "from datetime import datetime, timedelta\n",
    "from itertools import product\n",
    "\n",
    "import geoip2\n",
    "import geoip2.database as maxmind\n",
    "import numpy as np\n",
    "import pandas as pd\n",
    "import scipy.stats as sps\n",
    "from wmfdata import mariadb, hive\n",
    "from wmfdata.utils import pd_display_all, mediawiki_dt"
   ]
  },
  {
   "cell_type": "markdown",
   "metadata": {},
   "source": [
    "# Mobile edit samples"
   ]
  },
  {
   "cell_type": "code",
   "execution_count": null,
   "metadata": {},
   "outputs": [],
   "source": [
    "wikis = [\"enwiki\", \"cswiki\", \"kowiki\", \"hiwiki\", \"frwiki\"]\n",
    "\n",
    "mobile_edits = mariadb.multirun(\"\"\"\n",
    "select\n",
    "    database() as wiki,\n",
    "    rev_id,\n",
    "    ct_tag\n",
    "from change_tag\n",
    "left join revision\n",
    "on ct_rev_id = rev_id\n",
    "where\n",
    "    ct_tag in (\"android app edit\", \"ios app edit\", \"mobile web edit\") and\n",
    "    rev_timestamp between \"201808\" and \"201811\"\n",
    "\"\"\", wikis=wikis)"
   ]
  },
  {
   "cell_type": "code",
   "execution_count": null,
   "metadata": {},
   "outputs": [],
   "source": [
    "mobile_edits.head()"
   ]
  },
  {
   "cell_type": "code",
   "execution_count": null,
   "metadata": {},
   "outputs": [],
   "source": [
    "(mobile_edits\n",
    "    .groupby([\"wiki\", \"ct_tag\"])\n",
    "    .agg(\"count\")\n",
    "    .unstack()\n",
    ")"
   ]
  },
  {
   "cell_type": "code",
   "execution_count": null,
   "metadata": {},
   "outputs": [],
   "source": [
    "sampled_edits = pd.DataFrame(columns=[\"wiki\", \"rev_id\", \"ct_tag\"])\n",
    "\n",
    "for wiki in wikis:\n",
    "    wiki_edits = mobile_edits.query(\"wiki == @wiki\")\n",
    "    \n",
    "    web_edits = wiki_edits.query(\"ct_tag == 'mobile web edit'\").sample(160)\n",
    "    ios_edits = wiki_edits.query(\"ct_tag == 'ios app edit'\").sample(20)\n",
    "    android_edits = wiki_edits.query(\"ct_tag == 'android app edit'\").sample(20)\n",
    "    \n",
    "    sampled_edits = (sampled_edits\n",
    "                     .append([web_edits, ios_edits, android_edits])\n",
    "                     .reset_index(drop=True)\n",
    "                    )"
   ]
  },
  {
   "cell_type": "code",
   "execution_count": null,
   "metadata": {},
   "outputs": [],
   "source": [
    "# namespaces = {\n",
    "#     0: \"\",\n",
    "#     1: \"Talk\",\n",
    "#     2: \"User\",\n",
    "#     3: \"User talk\",\n",
    "#     4: \"Project\",\n",
    "#     5: \"Project talk\",\n",
    "#     6: \"File\",\n",
    "#     7: \"File talk\",\n",
    "#     8: \"MediaWiki\",\n",
    "#     9: \"MediaWiki talk\",\n",
    "#     10: \"Template\",\n",
    "#     11: \"Template talk\",\n",
    "#     12: \"Help\",\n",
    "#     13: \"Help talk\",\n",
    "#     14: \"Category\",\n",
    "#     15: \"Category talk\"\n",
    "# }\n",
    "\n",
    "# tags = {\n",
    "#     \"android app edit\": \"Android app\",\n",
    "#     \"ios app edit\": \"iOS app\", \n",
    "#     \"mobile web edit\": \"mobile web\"\n",
    "# }"
   ]
  },
  {
   "cell_type": "code",
   "execution_count": null,
   "metadata": {},
   "outputs": [],
   "source": [
    "with pd.option_context('display.max_rows', None, 'display.max_columns', None):\n",
    "    display(sampled_edits\n",
    "            .replace(to_replace=\" edit\", value=\"\", regex=True)\n",
    "            .replace({\"android app\": \"Android app\", \"ios app\": \"iOS app\"})\n",
    "           )"
   ]
  },
  {
   "cell_type": "markdown",
   "metadata": {},
   "source": [
    "# Editor samples"
   ]
  },
  {
   "cell_type": "markdown",
   "metadata": {},
   "source": [
    "## Load country data"
   ]
  },
  {
   "cell_type": "code",
   "execution_count": 151,
   "metadata": {},
   "outputs": [],
   "source": [
    "# To-do: make it possible to pass this to \n",
    "def pd_bin(bins, other=np.nan):\n",
    "    \"\"\"\n",
    "    Bins must be a dict mapping each bin value to a boolean series giving where it should be applied. \n",
    "    All series must be of the same length.\n",
    "    \"\"\"\n",
    "    bin_names = [*bins.keys()]\n",
    "    masks = [*bins.values()]\n",
    "    \n",
    "    lengths = {len(m) for m in masks}\n",
    "    \n",
    "    # If the masks do not have equal lengh\n",
    "    if len(lengths) != 1:\n",
    "        raise ValueError(\"Boolean masks must be of equal length.\")\n",
    "        \n",
    "    # Create the series to hold the result\n",
    "    length = list(lengths)[0]\n",
    "    ser = pd.Series(index=range(length))\n",
    "    \n",
    "    # Can't use numpy.select since it turns nan values into strings\n",
    "    for bin_name, mask in bins.items():\n",
    "        ser[mask] = bin_name\n",
    "    \n",
    "    if other is not np.nan:\n",
    "        ser[ser.isnull()] = other\n",
    "    \n",
    "    return ser.astype(\"category\")"
   ]
  },
  {
   "cell_type": "code",
   "execution_count": 2,
   "metadata": {},
   "outputs": [],
   "source": [
    "# Start included, end excluded\n",
    "END = datetime(2018, 11, 9)\n",
    "START = END - timedelta(days=90)"
   ]
  },
  {
   "cell_type": "code",
   "execution_count": 3,
   "metadata": {},
   "outputs": [
    {
     "name": "stdout",
     "output_type": "stream",
     "text": [
      "CPU times: user 1min 31s, sys: 7.89 s, total: 1min 38s\n",
      "Wall time: 27min 50s\n"
     ]
    }
   ],
   "source": [
    "%%time\n",
    "user_revs = mariadb.run(\"\"\"\n",
    "select\n",
    "    user_name,\n",
    "    user_email,\n",
    "    user_editcount as user_edit_count,\n",
    "    rev_id,\n",
    "    cuc_ip as rev_ip,\n",
    "    coalesce(ct_tag = \"mobile edit\", False) as mobile_rev\n",
    "from enwiki.revision\n",
    "left join enwiki.user\n",
    "on rev_user = user_id\n",
    "left join enwiki.change_tag\n",
    "on\n",
    "    rev_id = ct_rev_id and\n",
    "    ct_tag = \"mobile edit\"\n",
    "left join enwiki.cu_changes\n",
    "on\n",
    "    rev_timestamp = cuc_timestamp and\n",
    "    rev_id = cuc_this_oldid\n",
    "left join enwiki.user_groups\n",
    "on\n",
    "    rev_user = ug_user and\n",
    "    ug_group = \"bot\"\n",
    "left join enwiki.user_former_groups\n",
    "on\n",
    "    rev_user = ufg_user and\n",
    "    ufg_group = \"bot\"\n",
    "where\n",
    "    rev_timestamp between \"{start}\" and \"{end}\" and\n",
    "    rev_user != 0 and\n",
    "    convert(user_name using utf8) not regexp \"bot\\\\\\\\b\" and\n",
    "    user_email != \"\" and\n",
    "    cuc_ip is not null and\n",
    "    ufg_group is null and\n",
    "    ug_group is null\n",
    "\"\"\".format(\n",
    "    start=mediawiki_dt(START),\n",
    "    end=mediawiki_dt(END)\n",
    "))"
   ]
  },
  {
   "cell_type": "code",
   "execution_count": 13,
   "metadata": {},
   "outputs": [
    {
     "name": "stdout",
     "output_type": "stream",
     "text": [
      "<class 'pandas.core.frame.DataFrame'>\n",
      "RangeIndex: 7671880 entries, 0 to 7671879\n",
      "Data columns (total 6 columns):\n",
      "user_name          object\n",
      "user_email         object\n",
      "user_edit_count    int64\n",
      "rev_id             int64\n",
      "rev_ip             object\n",
      "mobile_rev         int64\n",
      "dtypes: int64(3), object(3)\n",
      "memory usage: 351.2+ MB\n"
     ]
    }
   ],
   "source": [
    "user_revs.info()"
   ]
  },
  {
   "cell_type": "code",
   "execution_count": 6,
   "metadata": {},
   "outputs": [],
   "source": [
    "user_revs.to_csv(\"data/user_revs.tsv\", sep=\"\\t\", index=False)"
   ]
  },
  {
   "cell_type": "code",
   "execution_count": 173,
   "metadata": {},
   "outputs": [
    {
     "name": "stdout",
     "output_type": "stream",
     "text": [
      "CPU times: user 7min 12s, sys: 1.04 s, total: 7min 13s\n",
      "Wall time: 7min 13s\n"
     ]
    }
   ],
   "source": [
    "%%time \n",
    "ip_locator = maxmind.Reader('/usr/share/GeoIP/GeoIP2-Country.mmdb')\n",
    "\n",
    "def geolocate(ip):\n",
    "    try:\n",
    "        return ip_locator.country(ip).country.iso_code\n",
    "    except geoip2.errors.AddressNotFoundError:\n",
    "        return \"--\"\n",
    "\n",
    "gn_countries = (\n",
    "    \"AD\", \"AL\", \"AT\", \"AX\", \"BA\", \"BE\", \"BG\", \"CH\", \"CY\", \"CZ\",\n",
    "    \"DE\", \"DK\", \"EE\", \"ES\", \"FI\", \"FO\", \"FR\", \"FX\", \"GB\", \"GG\",\n",
    "    \"GI\", \"GL\", \"GR\", \"HR\", \"HU\", \"IE\", \"IL\", \"IM\", \"IS\", \"IT\",\n",
    "    \"JE\", \"LI\", \"LU\", \"LV\", \"MC\", \"MD\", \"ME\", \"MK\", \"MT\", \"NL\",\n",
    "    \"NO\", \"PL\", \"PT\", \"RO\", \"RS\", \"RU\", \"SE\", \"SI\", \"SJ\", \"SK\",\n",
    "    \"SM\", \"TR\", \"VA\", \"AU\", \"CA\", \"HK\", \"MO\", \"NZ\", \"JP\", \"SG\",\n",
    "    \"KR\", \"TW\", \"US\"\n",
    ")\n",
    "\n",
    "def bin_region(ser):\n",
    "    unk = (ser == \"--\")\n",
    "    gn = (ser.isin(gn_countries))\n",
    "    gs = ~(gn | unk)\n",
    "    \n",
    "    return pd.Categorical(\n",
    "        ser.mask(unk, np.nan).mask(gn, \"Global North\").mask(gs, \"Global South\")\n",
    "    )\n",
    "\n",
    "user_revs = (\n",
    "    user_revs\n",
    "    .assign(rev_country=lambda df: df[\"rev_ip\"].map(geolocate).astype(\"category\"))\n",
    "    .assign(rev_region=lambda df: bin_region(df[\"rev_country\"]))\n",
    ")"
   ]
  },
  {
   "cell_type": "code",
   "execution_count": 176,
   "metadata": {},
   "outputs": [
    {
     "name": "stdout",
     "output_type": "stream",
     "text": [
      "<class 'pandas.core.frame.DataFrame'>\n",
      "RangeIndex: 7671880 entries, 0 to 7671879\n",
      "Data columns (total 8 columns):\n",
      "user_name          object\n",
      "user_email         object\n",
      "user_edit_count    int64\n",
      "rev_id             int64\n",
      "rev_ip             object\n",
      "mobile_rev         int64\n",
      "rev_country        category\n",
      "rev_region         category\n",
      "dtypes: category(2), int64(3), object(3)\n",
      "memory usage: 373.2+ MB\n"
     ]
    }
   ],
   "source": [
    "user_revs.info()"
   ]
  },
  {
   "cell_type": "code",
   "execution_count": 177,
   "metadata": {},
   "outputs": [],
   "source": [
    "user_revs.to_csv(\"data/user_revs.tsv\", sep=\"\\t\", index=False)"
   ]
  },
  {
   "cell_type": "code",
   "execution_count": 214,
   "metadata": {},
   "outputs": [
    {
     "name": "stdout",
     "output_type": "stream",
     "text": [
      "CPU times: user 2min 6s, sys: 1.61 s, total: 2min 7s\n",
      "Wall time: 2min 6s\n"
     ]
    }
   ],
   "source": [
    "%%time\n",
    "def bin_experience(ser):\n",
    "    exp = (ser >= 25)\n",
    "    inexp = ~exp\n",
    "    return pd.Categorical(\n",
    "        ser.mask(exp, \"experienced\").mask(inexp, \"inexperienced\")\n",
    "    )\n",
    "\n",
    "def bin_platform(ser):\n",
    "    desk = (ser < 0.01)\n",
    "    mob = (ser > 0.99)\n",
    "    mix = ~(desk | mob)\n",
    "    \n",
    "    return pd.Categorical(\n",
    "        ser\n",
    "        .mask(desk, \"all desktop\")\n",
    "        .mask(mob, \"all mobile\")\n",
    "        .mask(mix, \"mixed\")\n",
    "    )\n",
    "\n",
    "def mode(ser):\n",
    "    try:\n",
    "        # Takes the first alphabetically in case of a tie\n",
    "        return ser.mode()[0]\n",
    "    except (KeyError, IndexError):\n",
    "        return np.nan\n",
    "\n",
    "users = (\n",
    "    user_revs\n",
    "    .groupby(\"user_email\") # Group by email rather than user name because some email addresses are duplicated\n",
    "    .agg({\n",
    "        \"user_name\": lambda s: mode(s),\n",
    "        \"user_edit_count\": \"max\",\n",
    "        \"rev_id\": len,\n",
    "        \"mobile_rev\": \"mean\",\n",
    "        \"rev_region\": lambda s: mode(s) \n",
    "    })\n",
    "    .rename(columns={\n",
    "        \"mobile_rev\": \"mobile_prop\",\n",
    "        \"user_name\": \"FirstName\",\n",
    "        \"user_edit_count\": \"edit_count\",\n",
    "        \"rev_region\": \"region\",\n",
    "        \"rev_id\": \"edits_in_period\"\n",
    "    })\n",
    "    .assign(\n",
    "        experience=lambda df: bin_experience(df[\"edit_count\"]),\n",
    "        platform=lambda df: bin_platform(df[\"mobile_prop\"])\n",
    "    )\n",
    ")"
   ]
  },
  {
   "cell_type": "code",
   "execution_count": 224,
   "metadata": {},
   "outputs": [],
   "source": [
    "frame = users.query(\"edits_in_period >= 5\")"
   ]
  },
  {
   "cell_type": "code",
   "execution_count": 226,
   "metadata": {},
   "outputs": [
    {
     "data": {
      "text/plain": [
       "region        experience     platform   \n",
       "Global North  experienced    all desktop    26304\n",
       "                             all mobile       552\n",
       "                             mixed           4657\n",
       "              inexperienced  all desktop    15325\n",
       "                             all mobile      1650\n",
       "                             mixed           1361\n",
       "Global South  experienced    all desktop     4705\n",
       "                             all mobile       416\n",
       "                             mixed           1742\n",
       "              inexperienced  all desktop     4587\n",
       "                             all mobile      1424\n",
       "                             mixed           1007\n",
       "dtype: int64"
      ]
     },
     "execution_count": 226,
     "metadata": {},
     "output_type": "execute_result"
    }
   ],
   "source": [
    "pd.pivot_table(\n",
    "    frame,\n",
    "    index=[\"region\", \"experience\"],\n",
    "    columns=\"platform\",\n",
    "    values=\"FirstName\",\n",
    "    aggfunc=len\n",
    ").stack()"
   ]
  },
  {
   "cell_type": "code",
   "execution_count": null,
   "metadata": {},
   "outputs": [],
   "source": [
    "frame = (\n",
    "    frame\n",
    "    .rename_axis(\"Email\")\n",
    "    .rename(columns={\n",
    "        \"mobile_prop\": \"mobile_proportion\",\n",
    "        \"edit_count\": \"total_edit_count\",\n",
    "    })\n",
    ")\n",
    "\n",
    "cols = frame.columns.tolist()\n",
    "\n",
    "cols = [cols[-3]] + cols[:4] + cols[5:]\n",
    "\n",
    "frame = frame[cols]\n",
    "\n",
    "frame.head()"
   ]
  },
  {
   "cell_type": "code",
   "execution_count": 252,
   "metadata": {},
   "outputs": [],
   "source": [
    "query_string = \"experience == '{exp}' & platform == '{plat}' & region == '{reg}'\"\n",
    "\n",
    "experience = (\"inexperienced\", \"experienced\")\n",
    "platform = (\"all desktop\", \"all mobile\", \"mixed\")\n",
    "region = (\"Global South\", \"Global North\")\n",
    "platform_x_region = [x for x in product(platform, region)]\n",
    "\n",
    "random_seed = 434194029\n",
    "\n",
    "for exp in experience:\n",
    "    samples = []\n",
    "    for plat, reg in platform_x_region:\n",
    "        formatted_query = query_string.format(exp=exp, plat=plat, reg=reg)\n",
    "        sample = frame.query(formatted_query).sample(210, random_state=random_seed)\n",
    "        samples.append(sample)\n",
    "    \n",
    "    contact_list = pd.concat(samples)\n",
    "    filename = \"data/mobile-survey-\" + exp + \".csv\"\n",
    "    contact_list.to_csv(filename)"
   ]
  },
  {
   "cell_type": "code",
   "execution_count": null,
   "metadata": {},
   "outputs": [],
   "source": []
  }
 ],
 "metadata": {
  "kernelspec": {
   "display_name": "Python 3",
   "language": "python",
   "name": "python3"
  },
  "language_info": {
   "codemirror_mode": {
    "name": "ipython",
    "version": 3
   },
   "file_extension": ".py",
   "mimetype": "text/x-python",
   "name": "python",
   "nbconvert_exporter": "python",
   "pygments_lexer": "ipython3",
   "version": "3.5.3"
  }
 },
 "nbformat": 4,
 "nbformat_minor": 2
}
